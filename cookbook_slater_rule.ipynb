{
 "metadata": {
  "name": "",
  "signature": "sha256:3bedbbd067709df9d37a5cbc94f6d23e66ce0ff71629729c1dc168e3cbbc16de"
 },
 "nbformat": 3,
 "nbformat_minor": 0,
 "worksheets": [
  {
   "cells": [
    {
     "cell_type": "heading",
     "level": 1,
     "metadata": {},
     "source": [
      "Slater module about the slater's rule"
     ]
    },
    {
     "cell_type": "heading",
     "level": 5,
     "metadata": {},
     "source": [
      "Germain Salvato-Vallverdu [<germain.vallverdu@univ-pau.fr>](mailto:germain.vallverdu@univ-pau.fr)"
     ]
    },
    {
     "cell_type": "markdown",
     "metadata": {},
     "source": [
      "* [Atomic orbitals](#Atomic-orbitals)\n",
      "* [The Klechkowski class](#The-Klechkowski-class)\n",
      "* [The ElectronicConf class](#The-ElectronicConf-class)\n",
      "* [Example of Chromium exception](#Example-of-Chromium-exception)"
     ]
    },
    {
     "cell_type": "code",
     "collapsed": false,
     "input": [
      "import slater"
     ],
     "language": "python",
     "metadata": {},
     "outputs": [],
     "prompt_number": 1
    },
    {
     "cell_type": "code",
     "collapsed": false,
     "input": [
      "print(slater.__doc__)"
     ],
     "language": "python",
     "metadata": {},
     "outputs": [
      {
       "output_type": "stream",
       "stream": "stdout",
       "text": [
        "\n",
        "Slater Module\n",
        "-------------\n",
        "\n",
        "This module implement several classes in order to deal with atomic orbital,\n",
        "electronic configuration and compute atomic orbital energies using the slater's\n",
        "rule.\n",
        "\n",
        "Important note: In the following, electronic sub-shell such as 2s, 3d ... are\n",
        "called atomic orbital (AO) for simplicity. However, 2p, for example, is an\n",
        "electronic sub-shell which contains 3 AO 2p_0, 2p_-1, 2p_1.\n",
        "\n",
        "The implementation of this module is strongly inspired by the \n",
        "electronic_structure.core module of [pymatgen](http://pymatgen.org/) package.\n",
        "\n"
       ]
      }
     ],
     "prompt_number": 2
    },
    {
     "cell_type": "heading",
     "level": 3,
     "metadata": {},
     "source": [
      "Atomic orbitals"
     ]
    },
    {
     "cell_type": "heading",
     "level": 4,
     "metadata": {},
     "source": [
      "Atomic orbitals type"
     ]
    },
    {
     "cell_type": "markdown",
     "metadata": {},
     "source": [
      "The class ``AOType`` store the type of the atomic orbitals : s, p, d ..."
     ]
    },
    {
     "cell_type": "code",
     "collapsed": false,
     "input": [
      "print(slater.AOType.all_shells)"
     ],
     "language": "python",
     "metadata": {},
     "outputs": [
      {
       "output_type": "stream",
       "stream": "stdout",
       "text": [
        "(s, p, d, f)\n"
       ]
      }
     ],
     "prompt_number": 3
    },
    {
     "cell_type": "code",
     "collapsed": false,
     "input": [
      "print(slater.AOType.s)"
     ],
     "language": "python",
     "metadata": {},
     "outputs": [
      {
       "output_type": "stream",
       "stream": "stdout",
       "text": [
        "s\n"
       ]
      }
     ],
     "prompt_number": 4
    },
    {
     "cell_type": "code",
     "collapsed": false,
     "input": [
      "p_type = slater.AOType.from_string(\"p\")\n",
      "print(p_type)"
     ],
     "language": "python",
     "metadata": {},
     "outputs": [
      {
       "output_type": "stream",
       "stream": "stdout",
       "text": [
        "p\n"
       ]
      }
     ],
     "prompt_number": 5
    },
    {
     "cell_type": "code",
     "collapsed": false,
     "input": [
      "f_type = slater.AOType.from_int(3)\n",
      "print(f_type, \"   l = \", f_type.l)"
     ],
     "language": "python",
     "metadata": {},
     "outputs": [
      {
       "output_type": "stream",
       "stream": "stdout",
       "text": [
        "f    l =  3\n"
       ]
      }
     ],
     "prompt_number": 6
    },
    {
     "cell_type": "heading",
     "level": 4,
     "metadata": {},
     "source": [
      "The atomic orbital class"
     ]
    },
    {
     "cell_type": "markdown",
     "metadata": {},
     "source": [
      "Using the ``AO`` class of the slater module."
     ]
    },
    {
     "cell_type": "code",
     "collapsed": false,
     "input": [
      "AO_2s = slater.AO(n=2, aoType=slater.AOType.s, occ=1)"
     ],
     "language": "python",
     "metadata": {},
     "outputs": [],
     "prompt_number": 7
    },
    {
     "cell_type": "code",
     "collapsed": false,
     "input": [
      "print(AO_2s)"
     ],
     "language": "python",
     "metadata": {},
     "outputs": [
      {
       "output_type": "stream",
       "stream": "stdout",
       "text": [
        "2s\n"
       ]
      }
     ],
     "prompt_number": 8
    },
    {
     "cell_type": "code",
     "collapsed": false,
     "input": [
      "print(\"n = \", AO_2s.n, \"\\nl = \", AO_2s.l)"
     ],
     "language": "python",
     "metadata": {},
     "outputs": [
      {
       "output_type": "stream",
       "stream": "stdout",
       "text": [
        "n =  2 \n",
        "l =  0\n"
       ]
      }
     ],
     "prompt_number": 9
    },
    {
     "cell_type": "code",
     "collapsed": false,
     "input": [
      "print(AO_2s.name)"
     ],
     "language": "python",
     "metadata": {},
     "outputs": [
      {
       "output_type": "stream",
       "stream": "stdout",
       "text": [
        "2s\n"
       ]
      }
     ],
     "prompt_number": 10
    },
    {
     "cell_type": "code",
     "collapsed": false,
     "input": [
      "print(\"degeneracy (2l + 1) = \", AO_2s.degeneracy)"
     ],
     "language": "python",
     "metadata": {},
     "outputs": [
      {
       "output_type": "stream",
       "stream": "stdout",
       "text": [
        "degeneracy (2l + 1) =  1\n"
       ]
      }
     ],
     "prompt_number": 11
    },
    {
     "cell_type": "markdown",
     "metadata": {},
     "source": [
      "An occupency can be set to the shell."
     ]
    },
    {
     "cell_type": "code",
     "collapsed": false,
     "input": [
      "print(AO_2s.occ)"
     ],
     "language": "python",
     "metadata": {},
     "outputs": [
      {
       "output_type": "stream",
       "stream": "stdout",
       "text": [
        "1\n"
       ]
      }
     ],
     "prompt_number": 12
    },
    {
     "cell_type": "markdown",
     "metadata": {},
     "source": [
      "You can define the AO from a usual string."
     ]
    },
    {
     "cell_type": "code",
     "collapsed": false,
     "input": [
      "OA_3d = slater.AO.from_string(\"3d\")"
     ],
     "language": "python",
     "metadata": {},
     "outputs": [],
     "prompt_number": 13
    },
    {
     "cell_type": "code",
     "collapsed": false,
     "input": [
      "print(\"OA : \", OA_3d.name, \"\\nn = \", OA_3d.n, \"\\nl = \", OA_3d.l, \"\\ndeg = \", OA_3d.degeneracy)"
     ],
     "language": "python",
     "metadata": {},
     "outputs": [
      {
       "output_type": "stream",
       "stream": "stdout",
       "text": [
        "OA :  3d \n",
        "n =  3 \n",
        "l =  2 \n",
        "deg =  5\n"
       ]
      }
     ],
     "prompt_number": 14
    },
    {
     "cell_type": "markdown",
     "metadata": {},
     "source": [
      "Other ways to define the AO :"
     ]
    },
    {
     "cell_type": "code",
     "collapsed": false,
     "input": [
      "OA_4p = slater.AO(4, \"p\")\n",
      "print(OA_4p)"
     ],
     "language": "python",
     "metadata": {},
     "outputs": [
      {
       "output_type": "stream",
       "stream": "stdout",
       "text": [
        "4p\n"
       ]
      }
     ],
     "prompt_number": 15
    },
    {
     "cell_type": "code",
     "collapsed": false,
     "input": [
      "OA_3s = slater.AO(3, 0)\n",
      "print(OA_3s)"
     ],
     "language": "python",
     "metadata": {},
     "outputs": [
      {
       "output_type": "stream",
       "stream": "stdout",
       "text": [
        "3s\n"
       ]
      }
     ],
     "prompt_number": 16
    },
    {
     "cell_type": "heading",
     "level": 3,
     "metadata": {},
     "source": [
      "The Klechkowski class"
     ]
    },
    {
     "cell_type": "markdown",
     "metadata": {},
     "source": [
      "This class simply implements the Klechlowski rule. You should not need to use it directly."
     ]
    },
    {
     "cell_type": "code",
     "collapsed": false,
     "input": [
      "k = slater.Klechkowski()"
     ],
     "language": "python",
     "metadata": {},
     "outputs": [],
     "prompt_number": 17
    },
    {
     "cell_type": "code",
     "collapsed": false,
     "input": [
      "print(k)"
     ],
     "language": "python",
     "metadata": {},
     "outputs": [
      {
       "output_type": "stream",
       "stream": "stdout",
       "text": [
        " 1s\n",
        " 2s 2p\n",
        " 3s 3p\n",
        " 4s 3d 4p\n",
        " 5s 4d 5p\n",
        " 6s 4f 5d 6p\n",
        " 7s 5f 6d 7p\n"
       ]
      }
     ],
     "prompt_number": 18
    },
    {
     "cell_type": "heading",
     "level": 3,
     "metadata": {},
     "source": [
      "The ElectronicConf class"
     ]
    },
    {
     "cell_type": "markdown",
     "metadata": {},
     "source": [
      "This is the main part of the module."
     ]
    },
    {
     "cell_type": "heading",
     "level": 4,
     "metadata": {},
     "source": [
      "Create the object"
     ]
    },
    {
     "cell_type": "markdown",
     "metadata": {},
     "source": [
      "* You can start with the number of electrons :"
     ]
    },
    {
     "cell_type": "code",
     "collapsed": false,
     "input": [
      "Na = slater.ElectronicConf(nelec=11)"
     ],
     "language": "python",
     "metadata": {},
     "outputs": [],
     "prompt_number": 19
    },
    {
     "cell_type": "code",
     "collapsed": false,
     "input": [
      "print(Na)"
     ],
     "language": "python",
     "metadata": {},
     "outputs": [
      {
       "output_type": "stream",
       "stream": "stdout",
       "text": [
        "1s^2 2s^2 2p^6 3s^1\n"
       ]
      }
     ],
     "prompt_number": 20
    },
    {
     "cell_type": "markdown",
     "metadata": {},
     "source": [
      "* Or you can give your own electronic configuration.\n",
      "* Your own configuration might be wrong. Only the number of electrons by sub-shell is checked"
     ]
    },
    {
     "cell_type": "code",
     "collapsed": false,
     "input": [
      "Ca = slater.ElectronicConf.from_string(\"1s^2 2s^2 2p^6 3s^2 3p^6 4s^2\")\n",
      "print(Ca)"
     ],
     "language": "python",
     "metadata": {},
     "outputs": [
      {
       "output_type": "stream",
       "stream": "stdout",
       "text": [
        "1s^2 2s^2 2p^6 3s^2 3p^6 4s^2\n"
       ]
      }
     ],
     "prompt_number": 21
    },
    {
     "cell_type": "markdown",
     "metadata": {},
     "source": [
      "You can export the configuration in as a latex formula."
     ]
    },
    {
     "cell_type": "code",
     "collapsed": false,
     "input": [
      "print(Na.toTex())"
     ],
     "language": "python",
     "metadata": {},
     "outputs": [
      {
       "output_type": "stream",
       "stream": "stdout",
       "text": [
        "$\\text{1s}^\\text{2}\\text{2s}^\\text{2}\\text{2p}^\\text{6}\\text{3s}^\\text{1}$\n"
       ]
      }
     ],
     "prompt_number": 22
    },
    {
     "cell_type": "markdown",
     "metadata": {},
     "source": [
      "You can print valence electrons :"
     ]
    },
    {
     "cell_type": "code",
     "collapsed": false,
     "input": [
      "print(Na.valence)"
     ],
     "language": "python",
     "metadata": {},
     "outputs": [
      {
       "output_type": "stream",
       "stream": "stdout",
       "text": [
        "3s^1\n"
       ]
      }
     ],
     "prompt_number": 23
    },
    {
     "cell_type": "heading",
     "level": 4,
     "metadata": {},
     "source": [
      "Compute energies using slater's rule"
     ]
    },
    {
     "cell_type": "code",
     "collapsed": false,
     "input": [
      "data = Na.computeEnergy()"
     ],
     "language": "python",
     "metadata": {},
     "outputs": [
      {
       "output_type": "stream",
       "stream": "stdout",
       "text": [
        "-----------------------------------\n",
        "# AO   sigma     Z*    eps (eV)\n",
        "-----------------------------------\n",
        "  1s    0.31   10.69  -1554.38\n",
        "  2s    4.15    6.85   -159.56\n",
        "  2p    4.15    6.85   -159.56\n",
        "  3s    8.80    2.20     -7.31\n",
        "-----------------------------------\n"
       ]
      }
     ],
     "prompt_number": 24
    },
    {
     "cell_type": "code",
     "collapsed": false,
     "input": [
      "print(data[slater.AO.from_string(\"2p\")])"
     ],
     "language": "python",
     "metadata": {},
     "outputs": [
      {
       "output_type": "stream",
       "stream": "stdout",
       "text": [
        "(4.15, -159.55996125)\n"
       ]
      }
     ],
     "prompt_number": 25
    },
    {
     "cell_type": "code",
     "collapsed": false,
     "input": [
      "sigma, e = data[slater.AO.from_string(\"3s\")]\n",
      "print(\"sigma = \", sigma, \"\\ne = \", e, \"eV\")"
     ],
     "language": "python",
     "metadata": {},
     "outputs": [
      {
       "output_type": "stream",
       "stream": "stdout",
       "text": [
        "sigma =  8.8 \n",
        "e =  -7.314853333333327 eV\n"
       ]
      }
     ],
     "prompt_number": 26
    },
    {
     "cell_type": "markdown",
     "metadata": {},
     "source": [
      "Energy of the configuration"
     ]
    },
    {
     "cell_type": "code",
     "collapsed": false,
     "input": [
      "print(\"E = \", Na.energy)"
     ],
     "language": "python",
     "metadata": {},
     "outputs": [
      {
       "output_type": "stream",
       "stream": "stdout",
       "text": [
        "E =  -4392.561567733333\n"
       ]
      }
     ],
     "prompt_number": 27
    },
    {
     "cell_type": "heading",
     "level": 4,
     "metadata": {},
     "source": [
      "Play with ions"
     ]
    },
    {
     "cell_type": "markdown",
     "metadata": {},
     "source": [
      "Simplest cases :"
     ]
    },
    {
     "cell_type": "code",
     "collapsed": false,
     "input": [
      "print(\"Na  :\", Na)\n",
      "print(\"q   :\", Na.q, \"    Z = \", Na.Z)\n",
      "Na_p = Na.ionize(1)\n",
      "print(\"Na + :\", Na_p)\n",
      "print(\"q   :\", Na_p.q, \"    Z = \", Na_p.Z)"
     ],
     "language": "python",
     "metadata": {},
     "outputs": [
      {
       "output_type": "stream",
       "stream": "stdout",
       "text": [
        "Na  : 1s^2 2s^2 2p^6 3s^1\n",
        "q   : 0     Z =  11\n",
        "Na + : 1s^2 2s^2 2p^6\n",
        "q   : 1     Z =  11\n"
       ]
      }
     ],
     "prompt_number": 28
    },
    {
     "cell_type": "code",
     "collapsed": false,
     "input": [
      "Cl = slater.ElectronicConf(nelec=17)\n",
      "print(\"Cl  :\", Cl)\n",
      "Cl_m = Cl.ionize(-1)\n",
      "print(\"Cl- :\", Cl_m)"
     ],
     "language": "python",
     "metadata": {},
     "outputs": [
      {
       "output_type": "stream",
       "stream": "stdout",
       "text": [
        "Cl  : 1s^2 2s^2 2p^6 3s^2 3p^5\n",
        "Cl- : 1s^2 2s^2 2p^6 3s^2 3p^6\n"
       ]
      }
     ],
     "prompt_number": 29
    },
    {
     "cell_type": "markdown",
     "metadata": {},
     "source": [
      "More complicated (4s / 3d inversion) : vanadium"
     ]
    },
    {
     "cell_type": "code",
     "collapsed": false,
     "input": [
      "V = slater.ElectronicConf(nelec=23)\n",
      "print(\"V   :\", V)\n",
      "for i in [1, 2, 3]:\n",
      "    ion = V.ionize(i)\n",
      "    print(\"V{}+ :\".format(ion.q), ion)"
     ],
     "language": "python",
     "metadata": {},
     "outputs": [
      {
       "output_type": "stream",
       "stream": "stdout",
       "text": [
        "V   : 1s^2 2s^2 2p^6 3s^2 3p^6 4s^2 3d^3\n",
        "V1+ : 1s^2 2s^2 2p^6 3s^2 3p^6 4s^1 3d^3\n",
        "V2+ : 1s^2 2s^2 2p^6 3s^2 3p^6 3d^3\n",
        "V3+ : 1s^2 2s^2 2p^6 3s^2 3p^6 3d^2\n"
       ]
      }
     ],
     "prompt_number": 30
    },
    {
     "cell_type": "heading",
     "level": 3,
     "metadata": {},
     "source": [
      "Example of Chromium exception"
     ]
    },
    {
     "cell_type": "markdown",
     "metadata": {},
     "source": [
      "Electronic configuration of chromium presents an exception. Here we compute the energy difference between the electronic configuration following the Klechkowski rule and the one with the exception."
     ]
    },
    {
     "cell_type": "code",
     "collapsed": false,
     "input": [
      "Cr = slater.ElectronicConf(nelec=24)\n",
      "print(Cr)"
     ],
     "language": "python",
     "metadata": {},
     "outputs": [
      {
       "output_type": "stream",
       "stream": "stdout",
       "text": [
        "1s^2 2s^2 2p^6 3s^2 3p^6 4s^2 3d^4\n"
       ]
      }
     ],
     "prompt_number": 31
    },
    {
     "cell_type": "code",
     "collapsed": false,
     "input": [
      "Cr_exc = slater.ElectronicConf.from_string(\"1s^2 2s^2 2p^6 3s^2 3p^6 4s^1 3d^5\")\n",
      "print(Cr_exc)"
     ],
     "language": "python",
     "metadata": {},
     "outputs": [
      {
       "output_type": "stream",
       "stream": "stdout",
       "text": [
        "1s^2 2s^2 2p^6 3s^2 3p^6 4s^1 3d^5\n"
       ]
      }
     ],
     "prompt_number": 32
    },
    {
     "cell_type": "code",
     "collapsed": false,
     "input": [
      "d = Cr.computeEnergy()"
     ],
     "language": "python",
     "metadata": {},
     "outputs": [
      {
       "output_type": "stream",
       "stream": "stdout",
       "text": [
        "-----------------------------------\n",
        "# AO   sigma     Z*    eps (eV)\n",
        "-----------------------------------\n",
        "  1s    0.31   23.69  -7633.66\n",
        "  2s    4.15   19.85  -1339.87\n",
        "  2p    4.15   19.85  -1339.87\n",
        "  3s   11.25   12.75   -245.69\n",
        "  3p   11.25   12.75   -245.69\n",
        "  4s   20.55    3.45    -10.12\n",
        "  3d   19.05    4.95    -37.03\n",
        "-----------------------------------\n"
       ]
      }
     ],
     "prompt_number": 33
    },
    {
     "cell_type": "code",
     "collapsed": false,
     "input": [
      "d_exc = Cr_exc.computeEnergy()"
     ],
     "language": "python",
     "metadata": {},
     "outputs": [
      {
       "output_type": "stream",
       "stream": "stdout",
       "text": [
        "-----------------------------------\n",
        "# AO   sigma     Z*    eps (eV)\n",
        "-----------------------------------\n",
        "  1s    0.31   23.69  -7633.66\n",
        "  2s    4.15   19.85  -1339.87\n",
        "  2p    4.15   19.85  -1339.87\n",
        "  3s   11.25   12.75   -245.69\n",
        "  3p   11.25   12.75   -245.69\n",
        "  4s   21.05    2.95     -7.40\n",
        "  3d   19.40    4.60    -31.98\n",
        "-----------------------------------\n"
       ]
      }
     ],
     "prompt_number": 34
    },
    {
     "cell_type": "code",
     "collapsed": false,
     "input": [
      "Cr.energy < Cr_exc.energy"
     ],
     "language": "python",
     "metadata": {},
     "outputs": [
      {
       "metadata": {},
       "output_type": "pyout",
       "prompt_number": 35,
       "text": [
        "True"
       ]
      }
     ],
     "prompt_number": 35
    },
    {
     "cell_type": "markdown",
     "metadata": {},
     "source": [
      "Conclusion : Slater's rule  is not accurate enough to describe the chromium exception."
     ]
    }
   ],
   "metadata": {}
  }
 ]
}