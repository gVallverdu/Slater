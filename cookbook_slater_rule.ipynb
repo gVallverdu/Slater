{
 "cells": [
  {
   "cell_type": "markdown",
   "metadata": {},
   "source": [
    "# Slater module about the slater's rule"
   ]
  },
  {
   "cell_type": "markdown",
   "metadata": {},
   "source": [
    "##### Germain Salvato-Vallverdu [<germain.vallverdu@univ-pau.fr>](mailto:germain.vallverdu@univ-pau.fr)"
   ]
  },
  {
   "cell_type": "markdown",
   "metadata": {},
   "source": [
    "* [Atomic orbitals](#Atomic-orbitals)\n",
    "* [The Klechkowski class](#The-Klechkowski-class)\n",
    "* [The ElectronicConf class](#The-ElectronicConf-class)\n",
    "* [Example of Chromium exception](#Example-of-Chromium-exception)"
   ]
  },
  {
   "cell_type": "code",
   "execution_count": 1,
   "metadata": {},
   "outputs": [],
   "source": [
    "import slater"
   ]
  },
  {
   "cell_type": "code",
   "execution_count": 2,
   "metadata": {},
   "outputs": [
    {
     "name": "stdout",
     "output_type": "stream",
     "text": [
      "\n",
      "Slater Module\n",
      "-------------\n",
      "\n",
      "This module implement several classes in order to deal with atomic orbital,\n",
      "electronic configuration and compute atomic orbital energies using the slater's\n",
      "rule.\n",
      "\n",
      "Important note: In the following, electronic sub-shell such as 2s, 3d ... are\n",
      "called atomic orbital (AO) for simplicity. However, 2p, for example, is an\n",
      "electronic sub-shell which contains 3 AO 2p_0, 2p_-1, 2p_1.\n",
      "\n",
      "The implementation of this module is strongly inspired by the \n",
      "electronic_structure.core module of [pymatgen](http://pymatgen.org/) package.\n",
      "\n"
     ]
    }
   ],
   "source": [
    "print(slater.__doc__)"
   ]
  },
  {
   "cell_type": "markdown",
   "metadata": {},
   "source": [
    "### Atomic orbitals"
   ]
  },
  {
   "cell_type": "markdown",
   "metadata": {},
   "source": [
    "#### Atomic orbitals type"
   ]
  },
  {
   "cell_type": "markdown",
   "metadata": {},
   "source": [
    "The class ``AOType`` store the type of the atomic orbitals : s, p, d ..."
   ]
  },
  {
   "cell_type": "code",
   "execution_count": 3,
   "metadata": {},
   "outputs": [
    {
     "name": "stdout",
     "output_type": "stream",
     "text": [
      "(s, p, d, f)\n"
     ]
    }
   ],
   "source": [
    "print(slater.AOType.all_shells)"
   ]
  },
  {
   "cell_type": "code",
   "execution_count": 4,
   "metadata": {},
   "outputs": [
    {
     "name": "stdout",
     "output_type": "stream",
     "text": [
      "s\n"
     ]
    }
   ],
   "source": [
    "print(slater.AOType.s)"
   ]
  },
  {
   "cell_type": "code",
   "execution_count": 5,
   "metadata": {},
   "outputs": [
    {
     "name": "stdout",
     "output_type": "stream",
     "text": [
      "p\n"
     ]
    }
   ],
   "source": [
    "p_type = slater.AOType.from_string(\"p\")\n",
    "print(p_type)"
   ]
  },
  {
   "cell_type": "code",
   "execution_count": 6,
   "metadata": {},
   "outputs": [
    {
     "name": "stdout",
     "output_type": "stream",
     "text": [
      "f    l =  3\n"
     ]
    }
   ],
   "source": [
    "f_type = slater.AOType.from_int(3)\n",
    "print(f_type, \"   l = \", f_type.l)"
   ]
  },
  {
   "cell_type": "markdown",
   "metadata": {},
   "source": [
    "#### The atomic orbital class"
   ]
  },
  {
   "cell_type": "markdown",
   "metadata": {},
   "source": [
    "Using the ``AO`` class of the slater module."
   ]
  },
  {
   "cell_type": "code",
   "execution_count": 7,
   "metadata": {},
   "outputs": [],
   "source": [
    "AO_2s = slater.AO(n=2, aoType=slater.AOType.s, occ=1)"
   ]
  },
  {
   "cell_type": "code",
   "execution_count": 8,
   "metadata": {},
   "outputs": [
    {
     "name": "stdout",
     "output_type": "stream",
     "text": [
      "2s\n"
     ]
    }
   ],
   "source": [
    "print(AO_2s)"
   ]
  },
  {
   "cell_type": "code",
   "execution_count": 9,
   "metadata": {},
   "outputs": [
    {
     "name": "stdout",
     "output_type": "stream",
     "text": [
      "n =  2 \n",
      "l =  0\n"
     ]
    }
   ],
   "source": [
    "print(\"n = \", AO_2s.n, \"\\nl = \", AO_2s.l)"
   ]
  },
  {
   "cell_type": "code",
   "execution_count": 10,
   "metadata": {},
   "outputs": [
    {
     "name": "stdout",
     "output_type": "stream",
     "text": [
      "2s\n"
     ]
    }
   ],
   "source": [
    "print(AO_2s.name)"
   ]
  },
  {
   "cell_type": "code",
   "execution_count": 11,
   "metadata": {},
   "outputs": [
    {
     "name": "stdout",
     "output_type": "stream",
     "text": [
      "degeneracy (2l + 1) =  1\n"
     ]
    }
   ],
   "source": [
    "print(\"degeneracy (2l + 1) = \", AO_2s.degeneracy)"
   ]
  },
  {
   "cell_type": "markdown",
   "metadata": {},
   "source": [
    "An occupency can be set to the shell."
   ]
  },
  {
   "cell_type": "code",
   "execution_count": 12,
   "metadata": {},
   "outputs": [
    {
     "name": "stdout",
     "output_type": "stream",
     "text": [
      "1\n"
     ]
    }
   ],
   "source": [
    "print(AO_2s.occ)"
   ]
  },
  {
   "cell_type": "markdown",
   "metadata": {},
   "source": [
    "You can define the AO from a usual string."
   ]
  },
  {
   "cell_type": "code",
   "execution_count": 13,
   "metadata": {},
   "outputs": [],
   "source": [
    "OA_3d = slater.AO.from_string(\"3d\")"
   ]
  },
  {
   "cell_type": "code",
   "execution_count": 14,
   "metadata": {},
   "outputs": [
    {
     "name": "stdout",
     "output_type": "stream",
     "text": [
      "OA :  3d \n",
      "n =  3 \n",
      "l =  2 \n",
      "deg =  5\n"
     ]
    }
   ],
   "source": [
    "print(\"OA : \", OA_3d.name, \"\\nn = \", OA_3d.n, \"\\nl = \", OA_3d.l, \"\\ndeg = \", OA_3d.degeneracy)"
   ]
  },
  {
   "cell_type": "markdown",
   "metadata": {},
   "source": [
    "Other ways to define the AO :"
   ]
  },
  {
   "cell_type": "code",
   "execution_count": 15,
   "metadata": {},
   "outputs": [
    {
     "name": "stdout",
     "output_type": "stream",
     "text": [
      "4p\n"
     ]
    }
   ],
   "source": [
    "OA_4p = slater.AO(4, \"p\")\n",
    "print(OA_4p)"
   ]
  },
  {
   "cell_type": "code",
   "execution_count": 16,
   "metadata": {},
   "outputs": [
    {
     "name": "stdout",
     "output_type": "stream",
     "text": [
      "3s\n"
     ]
    }
   ],
   "source": [
    "OA_3s = slater.AO(3, 0)\n",
    "print(OA_3s)"
   ]
  },
  {
   "cell_type": "markdown",
   "metadata": {},
   "source": [
    "### The Klechkowski class"
   ]
  },
  {
   "cell_type": "markdown",
   "metadata": {},
   "source": [
    "This class simply implements the Klechlowski rule. You should not need to use it directly."
   ]
  },
  {
   "cell_type": "code",
   "execution_count": 17,
   "metadata": {},
   "outputs": [],
   "source": [
    "k = slater.Klechkowski()"
   ]
  },
  {
   "cell_type": "code",
   "execution_count": 18,
   "metadata": {},
   "outputs": [
    {
     "name": "stdout",
     "output_type": "stream",
     "text": [
      " 1s\n",
      " 2s 2p\n",
      " 3s 3p\n",
      " 4s 3d 4p\n",
      " 5s 4d 5p\n",
      " 6s 4f 5d 6p\n",
      " 7s 5f 6d 7p\n"
     ]
    }
   ],
   "source": [
    "print(k)"
   ]
  },
  {
   "cell_type": "markdown",
   "metadata": {},
   "source": [
    "### The ElectronicConf class"
   ]
  },
  {
   "cell_type": "markdown",
   "metadata": {},
   "source": [
    "This is the main part of the module."
   ]
  },
  {
   "cell_type": "markdown",
   "metadata": {},
   "source": [
    "#### Create the object"
   ]
  },
  {
   "cell_type": "markdown",
   "metadata": {},
   "source": [
    "* You can start with the number of electrons :"
   ]
  },
  {
   "cell_type": "code",
   "execution_count": 19,
   "metadata": {},
   "outputs": [],
   "source": [
    "Na = slater.ElectronicConf(nelec=11)"
   ]
  },
  {
   "cell_type": "code",
   "execution_count": 20,
   "metadata": {},
   "outputs": [
    {
     "name": "stdout",
     "output_type": "stream",
     "text": [
      "1s^2 2s^2 2p^6 3s^1\n"
     ]
    }
   ],
   "source": [
    "print(Na)"
   ]
  },
  {
   "cell_type": "markdown",
   "metadata": {},
   "source": [
    "* Or you can give your own electronic configuration.\n",
    "* Your own configuration might be wrong. Only the number of electrons by sub-shell is checked"
   ]
  },
  {
   "cell_type": "code",
   "execution_count": 21,
   "metadata": {},
   "outputs": [
    {
     "name": "stdout",
     "output_type": "stream",
     "text": [
      "1s^2 2s^2 2p^6 3s^2 3p^6 4s^2\n"
     ]
    }
   ],
   "source": [
    "Ca = slater.ElectronicConf.from_string(\"1s^2 2s^2 2p^6 3s^2 3p^6 4s^2\")\n",
    "print(Ca)"
   ]
  },
  {
   "cell_type": "markdown",
   "metadata": {},
   "source": [
    "You can export the configuration in as a latex formula."
   ]
  },
  {
   "cell_type": "code",
   "execution_count": 22,
   "metadata": {},
   "outputs": [
    {
     "name": "stdout",
     "output_type": "stream",
     "text": [
      "$\\text{1s}^\\text{2}\\text{2s}^\\text{2}\\text{2p}^\\text{6}\\text{3s}^\\text{1}$\n"
     ]
    }
   ],
   "source": [
    "print(Na.toTex())"
   ]
  },
  {
   "cell_type": "markdown",
   "metadata": {},
   "source": [
    "You can print valence electrons :"
   ]
  },
  {
   "cell_type": "code",
   "execution_count": 23,
   "metadata": {},
   "outputs": [
    {
     "name": "stdout",
     "output_type": "stream",
     "text": [
      "3s^1\n"
     ]
    }
   ],
   "source": [
    "print(Na.valence)"
   ]
  },
  {
   "cell_type": "markdown",
   "metadata": {},
   "source": [
    "#### Compute energies using slater's rule"
   ]
  },
  {
   "cell_type": "code",
   "execution_count": 24,
   "metadata": {},
   "outputs": [
    {
     "name": "stdout",
     "output_type": "stream",
     "text": [
      "-----------------------------------\n",
      "# AO   sigma     Z*    eps (eV)\n",
      "-----------------------------------\n",
      "  1s    0.31   10.69  -1554.38\n",
      "  2s    4.15    6.85   -159.56\n",
      "  2p    4.15    6.85   -159.56\n",
      "  3s    8.80    2.20     -7.31\n",
      "-----------------------------------\n"
     ]
    }
   ],
   "source": [
    "data = Na.computeEnergy()"
   ]
  },
  {
   "cell_type": "code",
   "execution_count": 25,
   "metadata": {},
   "outputs": [
    {
     "name": "stdout",
     "output_type": "stream",
     "text": [
      "(4.15, -159.55996125)\n"
     ]
    }
   ],
   "source": [
    "print(data[slater.AO.from_string(\"2p\")])"
   ]
  },
  {
   "cell_type": "code",
   "execution_count": 26,
   "metadata": {},
   "outputs": [
    {
     "name": "stdout",
     "output_type": "stream",
     "text": [
      "sigma =  8.8 \n",
      "e =  -7.314853333333327 eV\n"
     ]
    }
   ],
   "source": [
    "sigma, e = data[slater.AO.from_string(\"3s\")]\n",
    "print(\"sigma = \", sigma, \"\\ne = \", e, \"eV\")"
   ]
  },
  {
   "cell_type": "markdown",
   "metadata": {},
   "source": [
    "Energy of the configuration"
   ]
  },
  {
   "cell_type": "code",
   "execution_count": 27,
   "metadata": {},
   "outputs": [
    {
     "name": "stdout",
     "output_type": "stream",
     "text": [
      "E =  -4392.561567733333\n"
     ]
    }
   ],
   "source": [
    "print(\"E = \", Na.energy)"
   ]
  },
  {
   "cell_type": "markdown",
   "metadata": {},
   "source": [
    "#### Play with ions"
   ]
  },
  {
   "cell_type": "markdown",
   "metadata": {},
   "source": [
    "Simplest cases :"
   ]
  },
  {
   "cell_type": "code",
   "execution_count": 28,
   "metadata": {},
   "outputs": [
    {
     "name": "stdout",
     "output_type": "stream",
     "text": [
      "Na  : 1s^2 2s^2 2p^6 3s^1\n",
      "q   : 0     Z =  11\n",
      "Na + : 1s^2 2s^2 2p^6\n",
      "q   : 1     Z =  11\n"
     ]
    }
   ],
   "source": [
    "print(\"Na  :\", Na)\n",
    "print(\"q   :\", Na.q, \"    Z = \", Na.Z)\n",
    "Na_p = Na.ionize(1)\n",
    "print(\"Na + :\", Na_p)\n",
    "print(\"q   :\", Na_p.q, \"    Z = \", Na_p.Z)"
   ]
  },
  {
   "cell_type": "code",
   "execution_count": 29,
   "metadata": {},
   "outputs": [
    {
     "name": "stdout",
     "output_type": "stream",
     "text": [
      "Cl  : 1s^2 2s^2 2p^6 3s^2 3p^5\n",
      "Cl- : 1s^2 2s^2 2p^6 3s^2 3p^6\n"
     ]
    }
   ],
   "source": [
    "Cl = slater.ElectronicConf(nelec=17)\n",
    "print(\"Cl  :\", Cl)\n",
    "Cl_m = Cl.ionize(-1)\n",
    "print(\"Cl- :\", Cl_m)"
   ]
  },
  {
   "cell_type": "markdown",
   "metadata": {},
   "source": [
    "More complicated (4s / 3d inversion) : vanadium"
   ]
  },
  {
   "cell_type": "code",
   "execution_count": 30,
   "metadata": {},
   "outputs": [
    {
     "name": "stdout",
     "output_type": "stream",
     "text": [
      "V   : 1s^2 2s^2 2p^6 3s^2 3p^6 4s^2 3d^3\n",
      "V1+ : 1s^2 2s^2 2p^6 3s^2 3p^6 4s^1 3d^3\n",
      "V2+ : 1s^2 2s^2 2p^6 3s^2 3p^6 3d^3\n",
      "V3+ : 1s^2 2s^2 2p^6 3s^2 3p^6 3d^2\n"
     ]
    }
   ],
   "source": [
    "V = slater.ElectronicConf(nelec=23)\n",
    "print(\"V   :\", V)\n",
    "for i in [1, 2, 3]:\n",
    "    ion = V.ionize(i)\n",
    "    print(\"V{}+ :\".format(ion.q), ion)"
   ]
  },
  {
   "cell_type": "markdown",
   "metadata": {},
   "source": [
    "### Example of Chromium exception"
   ]
  },
  {
   "cell_type": "markdown",
   "metadata": {},
   "source": [
    "Electronic configuration of chromium presents an exception. Here we compute the energy difference between the electronic configuration following the Klechkowski rule and the one with the exception."
   ]
  },
  {
   "cell_type": "code",
   "execution_count": 31,
   "metadata": {},
   "outputs": [
    {
     "name": "stdout",
     "output_type": "stream",
     "text": [
      "1s^2 2s^2 2p^6 3s^2 3p^6 4s^2 3d^4\n"
     ]
    }
   ],
   "source": [
    "Cr = slater.ElectronicConf(nelec=24)\n",
    "print(Cr)"
   ]
  },
  {
   "cell_type": "code",
   "execution_count": 32,
   "metadata": {},
   "outputs": [
    {
     "name": "stdout",
     "output_type": "stream",
     "text": [
      "1s^2 2s^2 2p^6 3s^2 3p^6 4s^1 3d^5\n"
     ]
    }
   ],
   "source": [
    "Cr_exc = slater.ElectronicConf.from_string(\"1s^2 2s^2 2p^6 3s^2 3p^6 4s^1 3d^5\")\n",
    "print(Cr_exc)"
   ]
  },
  {
   "cell_type": "code",
   "execution_count": 33,
   "metadata": {},
   "outputs": [
    {
     "name": "stdout",
     "output_type": "stream",
     "text": [
      "-----------------------------------\n",
      "# AO   sigma     Z*    eps (eV)\n",
      "-----------------------------------\n",
      "  1s    0.31   23.69  -7633.66\n",
      "  2s    4.15   19.85  -1339.87\n",
      "  2p    4.15   19.85  -1339.87\n",
      "  3s   11.25   12.75   -245.69\n",
      "  3p   11.25   12.75   -245.69\n",
      "  4s   20.55    3.45    -10.12\n",
      "  3d   19.05    4.95    -37.03\n",
      "-----------------------------------\n"
     ]
    }
   ],
   "source": [
    "d = Cr.computeEnergy()"
   ]
  },
  {
   "cell_type": "code",
   "execution_count": 34,
   "metadata": {},
   "outputs": [
    {
     "name": "stdout",
     "output_type": "stream",
     "text": [
      "-----------------------------------\n",
      "# AO   sigma     Z*    eps (eV)\n",
      "-----------------------------------\n",
      "  1s    0.31   23.69  -7633.66\n",
      "  2s    4.15   19.85  -1339.87\n",
      "  2p    4.15   19.85  -1339.87\n",
      "  3s   11.25   12.75   -245.69\n",
      "  3p   11.25   12.75   -245.69\n",
      "  4s   21.05    2.95     -7.40\n",
      "  3d   19.40    4.60    -31.98\n",
      "-----------------------------------\n"
     ]
    }
   ],
   "source": [
    "d_exc = Cr_exc.computeEnergy()"
   ]
  },
  {
   "cell_type": "code",
   "execution_count": 35,
   "metadata": {},
   "outputs": [
    {
     "data": {
      "text/plain": [
       "True"
      ]
     },
     "execution_count": 35,
     "metadata": {},
     "output_type": "execute_result"
    }
   ],
   "source": [
    "Cr.energy < Cr_exc.energy"
   ]
  },
  {
   "cell_type": "markdown",
   "metadata": {},
   "source": [
    "Conclusion : Slater's rule  is not accurate enough to describe the chromium exception."
   ]
  }
 ],
 "metadata": {
  "kernelspec": {
   "display_name": "Python 3",
   "language": "python",
   "name": "python3"
  },
  "language_info": {
   "codemirror_mode": {
    "name": "ipython",
    "version": 3
   },
   "file_extension": ".py",
   "mimetype": "text/x-python",
   "name": "python",
   "nbconvert_exporter": "python",
   "pygments_lexer": "ipython3",
   "version": "3.6.1"
  }
 },
 "nbformat": 4,
 "nbformat_minor": 1
}
